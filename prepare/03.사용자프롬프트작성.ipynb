{
 "cells": [
  {
   "cell_type": "markdown",
   "id": "2ec5202e",
   "metadata": {},
   "source": [
    "# llm 기본틀 만들기\n",
    "- OpenAI Key 로딩, ChatOpenAI() 객체 생성"
   ]
  },
  {
   "cell_type": "code",
   "execution_count": 1,
   "id": "6ddf8d2a",
   "metadata": {},
   "outputs": [],
   "source": [
    "from dotenv import load_dotenv\n",
    "import os\n",
    "from langchain_openai import ChatOpenAI\n",
    "\n",
    "load_dotenv(override=True)\n",
    "\n",
    "api_key = os.getenv('OPENAI_API_KEY')\n",
    "# print(api_key)"
   ]
  },
  {
   "cell_type": "markdown",
   "id": "3a80a31e",
   "metadata": {},
   "source": [
    "# 모델 객체 생성\n"
   ]
  },
  {
   "cell_type": "code",
   "execution_count": 2,
   "id": "1934f887",
   "metadata": {},
   "outputs": [
    {
     "data": {
      "text/plain": [
       "ChatOpenAI(client=<openai.resources.chat.completions.completions.Completions object at 0x000001EC96407C50>, async_client=<openai.resources.chat.completions.completions.AsyncCompletions object at 0x000001EC962DD4F0>, root_client=<openai.OpenAI object at 0x000001EC93DB2240>, root_async_client=<openai.AsyncOpenAI object at 0x000001EC96407DA0>, model_name='gpt-3.5-turbo-0125', model_kwargs={}, openai_api_key=SecretStr('**********'))"
      ]
     },
     "execution_count": 2,
     "metadata": {},
     "output_type": "execute_result"
    }
   ],
   "source": [
    "# gpt model 객체 생성\n",
    "# llm = ChatOpenAI(model=\"gpt-4o\", api_key=api_key)\n",
    "llm = ChatOpenAI(model=\"gpt-3.5-turbo-0125\", api_key=api_key)\n",
    "llm"
   ]
  },
  {
   "cell_type": "code",
   "execution_count": 3,
   "id": "ea174a51",
   "metadata": {},
   "outputs": [],
   "source": [
    "from langchain_core.prompts import ChatPromptTemplate\n",
    "from langchain_core.output_parsers import StrOutputParser"
   ]
  },
  {
   "cell_type": "markdown",
   "id": "26277ff0",
   "metadata": {},
   "source": [
    "# 시스템 프롬프트 작성\n"
   ]
  },
  {
   "cell_type": "markdown",
   "id": "f277deea",
   "metadata": {},
   "source": [
    "Want assistance provided by qualified individuals enabled with experience on understanding charts using technical analysis tools while interpreting macroeconomic environment prevailing across world consequently assisting customers acquire long term advantages requires clear verdicts therefore seeking same through informed predictions written down precisely! First statement contains following content- “Can you tell us what future stock market looks like based upon current conditions ?\"."
   ]
  },
  {
   "cell_type": "code",
   "execution_count": 33,
   "id": "3fc1f1d4",
   "metadata": {},
   "outputs": [],
   "source": [
    "system_prompt = \"\"\"\n",
    "Want assistance provided by qualified individuals enabled with experience on understanding charts using technical analysis tools while interpreting macroeconomic environment prevailing across world consequently assisting customers acquire long term advantages requires clear verdicts therefore seeking same through informed predictions written down precisely! First statement contains following content- “Can you tell us what future stock market looks like based upon current conditions ?\".\n",
    "\"\"\"\n",
    "user_prompt = \"\"\"\n",
    "{company}에 주식을 투자해도 될까요? 마크다운 형식의 투자보고서를 한글로 작성해 주세요.\n",
    "아래의 기본정보, 재무제표를 검토해서 마크다운 형식의 투자보고서를 한글로 작성해 주세요.\n",
    "\n",
    "기본정보 :\n",
    "{basic_info}\n",
    "\n",
    "재무제표 :\n",
    "{finacial_statement}\n",
    "\n",
    "\"\"\""
   ]
  },
  {
   "cell_type": "markdown",
   "id": "6f3ab8cc",
   "metadata": {},
   "source": [
    "# 프롬프트 객체 생성\n"
   ]
  },
  {
   "cell_type": "code",
   "execution_count": 34,
   "id": "012536b6",
   "metadata": {},
   "outputs": [
    {
     "data": {
      "text/plain": [
       "ChatPromptTemplate(input_variables=['basic_info', 'company', 'finacial_statement'], input_types={}, partial_variables={}, messages=[SystemMessagePromptTemplate(prompt=PromptTemplate(input_variables=[], input_types={}, partial_variables={}, template='\\nWant assistance provided by qualified individuals enabled with experience on understanding charts using technical analysis tools while interpreting macroeconomic environment prevailing across world consequently assisting customers acquire long term advantages requires clear verdicts therefore seeking same through informed predictions written down precisely! First statement contains following content- “Can you tell us what future stock market looks like based upon current conditions ?\".\\n'), additional_kwargs={}), HumanMessagePromptTemplate(prompt=PromptTemplate(input_variables=['basic_info', 'company', 'finacial_statement'], input_types={}, partial_variables={}, template='\\n{company}에 주식을 투자해도 될까요? 마크다운 형식의 투자보고서를 한글로 작성해 주세요.\\n아래의 기본정보, 재무제표를 검토해서 마크다운 형식의 투자보고서를 한글로 작성해 주세요.\\n\\n기본정보 :\\n{basic_info}\\n\\n재무제표 :\\n{finacial_statement}\\n\\n'), additional_kwargs={})])"
      ]
     },
     "execution_count": 34,
     "metadata": {},
     "output_type": "execute_result"
    }
   ],
   "source": [
    "prompt = ChatPromptTemplate.from_messages([\n",
    "    (\"system\", system_prompt),\n",
    "    (\"user\", user_prompt)\n",
    "])\n",
    "prompt"
   ]
  },
  {
   "cell_type": "markdown",
   "id": "b43ac0e0",
   "metadata": {},
   "source": [
    "# OutPut 파서 객체 생성\n"
   ]
  },
  {
   "cell_type": "code",
   "execution_count": 35,
   "id": "2ec72220",
   "metadata": {},
   "outputs": [
    {
     "data": {
      "text/plain": [
       "StrOutputParser()"
      ]
     },
     "execution_count": 35,
     "metadata": {},
     "output_type": "execute_result"
    }
   ],
   "source": [
    "output_parser = StrOutputParser()\n",
    "output_parser"
   ]
  },
  {
   "cell_type": "markdown",
   "id": "76221175",
   "metadata": {},
   "source": [
    "# LCEL로 LLM 요청 및 응답받기\n",
    "- chain 구성 : LCEL(LangChain Expression Language)\n",
    "\n"
   ]
  },
  {
   "cell_type": "code",
   "execution_count": 36,
   "id": "aa3d3122",
   "metadata": {},
   "outputs": [],
   "source": [
    "# from stock_info import Stock 인식이 안될 경우 아래 코드 실행\n",
    "import sys\n",
    "import os\n",
    "\n",
    "# 상위 디렉터리(LANGCHAIN_PJT)를 경로에 추가\n",
    "sys.path.append(os.path.abspath(\"..\"))\n",
    "import stock_info"
   ]
  },
  {
   "cell_type": "code",
   "execution_count": 37,
   "id": "30adbe68",
   "metadata": {},
   "outputs": [],
   "source": [
    "from stock_info import Stock\n",
    "\n",
    "# 회사 이름\n",
    "company = \"MicroSoft\"\n",
    "symbol = \"MSFT\"\n"
   ]
  },
  {
   "cell_type": "code",
   "execution_count": 38,
   "id": "06210859",
   "metadata": {},
   "outputs": [],
   "source": [
    "# chain 구성 : LCEL(LangChain Expression Language)\n",
    "chain = prompt | llm | output_parser\n",
    "\n",
    "# 회사 이름\n",
    "# company = \"MicroSoft\"\n",
    "# symbol = \"MSFT\"  # stock의 symbol 정보\n",
    "\n",
    "company = \"Apple Inc\"\n",
    "symbol = \"AAPL\"\n",
    "# 기본정보 :  basic_info\n",
    "# 재무제표: finacial_statement\n",
    "\n",
    "# stock 정보를 객체로 모듈화해서 불러오기\n",
    "from stock_info import Stock\n",
    "\n",
    "stock = Stock(symbol)\n",
    "req_value = {\n",
    "    \"company\":company,\n",
    "        # 기본정보 :  basic_info\n",
    "    \"basic_info\": stock.get_basic_info(),\n",
    "    # 재무제표: finacial_statement\n",
    "    \"finacial_statement\" : stock.get_financial_statement()\n",
    "            }\n",
    "\n",
    "response = chain.invoke(req_value)"
   ]
  },
  {
   "cell_type": "code",
   "execution_count": 39,
   "id": "4e76ff68",
   "metadata": {},
   "outputs": [
    {
     "name": "stdout",
     "output_type": "stream",
     "text": [
      "## 투자보고서: Apple Inc. (AAPL)\n",
      "\n",
      "### 기본정보\n",
      "- 기업명: Apple Inc.\n",
      "- 시가총액: 2,968,938,348,544\n",
      "- 산업: 소비자 전자제품\n",
      "- 섹터: 기술\n",
      "- 정규직 종업원 수: 164,000 명\n",
      "- 현재 주가: 198.78\n",
      "- 기업가치: 3,076,731,961,344\n",
      "\n",
      "### 재무제표\n",
      "\n",
      "#### 손익계산서\n",
      "| 항목              | 2024년 | 2023년 | 2022년 | 2021년 |\n",
      "|-------------------|---------|---------|---------|---------|\n",
      "| 총 수익           | 3.91035e+11 | 3.83285e+11 | 3.94328e+11 | 3.65817e+11 |\n",
      "| 총 이익           | 1.80683e+11 | 1.69148e+11 | 1.70782e+11 | 1.52836e+11 |\n",
      "| 영업 이익         | 1.23216e+11 | 1.14301e+11 | 1.19437e+11 | 1.08949e+11 |\n",
      "| 순 이익           | 9.3736e+10 | 9.6995e+10 | 9.9803e+10 | 9.468e+10 |\n",
      "\n",
      "#### 대차대조표\n",
      "| 항목                                   | 2024년 | 2023년 | 2022년 | 2021년 |\n",
      "|---------------------------------------|---------|---------|---------|---------|\n",
      "| 총 자산                               | 3.6498e+11 | 3.52583e+11 | 3.52755e+11 | 3.51002e+11 |\n",
      "| 총 부채 및 소수 지분 순액   | 3.0803e+11 | 2.90437e+11 | 3.02083e+11 | 2.87912e+11 |\n",
      "| 주주자본                             | 5.695e+10 | 6.2146e+10 | 5.0672e+10 | 6.309e+10 |\n",
      "\n",
      "#### 현금흐름표\n",
      "| 항목                  | 2024년 | 2023년 | 2022년 | 2021년 |\n",
      "|---------------------|---------|---------|---------|---------|\n",
      "| 영업 현금 흐름    | 1.18254e+11 | 1.10543e+11 | 1.22151e+11 | 1.04038e+11 |\n",
      "| 투자 현금 흐름    | 2.935e+09 | 3.705e+09 | -2.2354e+10 | -1.4545e+10 |\n",
      "| 재무 현금 흐름    | -1.21983e+11 | -1.08488e+11 | -1.10749e+11 | -9.3353e+10 |\n",
      "\n",
      "### 투자 결론\n",
      "Apple Inc.은 안정적인 재무 상태를 유지하고 있으며 지속적인 성장세를 보여주고 있습니다. 특히 영업 이익과 순 이익이 증가하는 추세를 보이고 있습니다. 또한 현금흐름이 양호한 편이며, 주주자본 또한 꾸준히 유지되고 있습니다. 따라서 Apple Inc.에 대한 투자는 장기적으로 안정적인 수익을 기대할 수 있을 것으로 판단됩니다. 다만 시장 환경 변화 및 경쟁사의 변화에 대한 주의가 필요합니다.\n"
     ]
    }
   ],
   "source": [
    "# print(company)\n",
    "# print(stock.get_basic_info())\n",
    "# print(stock.get_financial_statement())\n",
    "print(response)\n"
   ]
  },
  {
   "cell_type": "code",
   "execution_count": null,
   "id": "165e5d08",
   "metadata": {},
   "outputs": [],
   "source": []
  },
  {
   "cell_type": "code",
   "execution_count": null,
   "id": "c4ce88d4",
   "metadata": {},
   "outputs": [],
   "source": []
  },
  {
   "cell_type": "code",
   "execution_count": null,
   "id": "823ec568",
   "metadata": {},
   "outputs": [],
   "source": []
  }
 ],
 "metadata": {
  "kernelspec": {
   "display_name": "lc_env",
   "language": "python",
   "name": "python3"
  },
  "language_info": {
   "codemirror_mode": {
    "name": "ipython",
    "version": 3
   },
   "file_extension": ".py",
   "mimetype": "text/x-python",
   "name": "python",
   "nbconvert_exporter": "python",
   "pygments_lexer": "ipython3",
   "version": "3.12.11"
  }
 },
 "nbformat": 4,
 "nbformat_minor": 5
}
