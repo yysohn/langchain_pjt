{
 "cells": [
  {
   "cell_type": "markdown",
   "id": "2518978e",
   "metadata": {},
   "source": [
    "# llm 기본틀 만들기\n",
    "- OpenAI Key 로딩, ChatOpenAI() 객체 생성"
   ]
  },
  {
   "cell_type": "code",
   "execution_count": 1,
   "id": "4b7f8bde",
   "metadata": {},
   "outputs": [],
   "source": [
    "from dotenv import load_dotenv\n",
    "import os\n",
    "from langchain_openai import ChatOpenAI\n",
    "\n",
    "load_dotenv(override=True)\n",
    "\n",
    "api_key = os.getenv('OPENAI_API_KEY')\n",
    "# print(api_key)"
   ]
  },
  {
   "cell_type": "markdown",
   "id": "2a32893b",
   "metadata": {},
   "source": [
    "# 모델 객체 생성\n"
   ]
  },
  {
   "cell_type": "code",
   "execution_count": 4,
   "id": "b1683ef9",
   "metadata": {},
   "outputs": [
    {
     "data": {
      "text/plain": [
       "ChatOpenAI(client=<openai.resources.chat.completions.completions.Completions object at 0x000001B77BD6F2C0>, async_client=<openai.resources.chat.completions.completions.AsyncCompletions object at 0x000001B77BD6EA20>, root_client=<openai.OpenAI object at 0x000001B77E522C30>, root_async_client=<openai.AsyncOpenAI object at 0x000001B77BD6F1D0>, model_name='gpt-3.5-turbo-0125', model_kwargs={}, openai_api_key=SecretStr('**********'))"
      ]
     },
     "execution_count": 4,
     "metadata": {},
     "output_type": "execute_result"
    }
   ],
   "source": [
    "# gpt model 객체 생성\n",
    "# llm = ChatOpenAI(model=\"gpt-4o\", api_key=api_key)\n",
    "llm = ChatOpenAI(model=\"gpt-3.5-turbo-0125\", api_key=api_key)\n",
    "llm"
   ]
  },
  {
   "cell_type": "code",
   "execution_count": 3,
   "id": "b241b451",
   "metadata": {},
   "outputs": [],
   "source": [
    "from langchain_core.prompts import ChatPromptTemplate\n",
    "from langchain_core.output_parsers import StrOutputParser"
   ]
  },
  {
   "cell_type": "markdown",
   "id": "bdb96d0d",
   "metadata": {
    "vscode": {
     "languageId": "markdown"
    }
   },
   "source": [
    "# 시스템 프롬프트 작성\n"
   ]
  },
  {
   "cell_type": "markdown",
   "id": "9e39ad0d",
   "metadata": {
    "vscode": {
     "languageId": "markdown"
    }
   },
   "source": [
    "Want assistance provided by qualified individuals enabled with experience on understanding charts using technical analysis tools while interpreting macroeconomic environment prevailing across world consequently assisting customers acquire long term advantages requires clear verdicts therefore seeking same through informed predictions written down precisely! First statement contains following content- “Can you tell us what future stock market looks like based upon current conditions ?\"."
   ]
  },
  {
   "cell_type": "code",
   "execution_count": 5,
   "id": "46bd816a",
   "metadata": {},
   "outputs": [],
   "source": [
    "system_prompt = \"\"\"\n",
    "Want assistance provided by qualified individuals enabled with experience on understanding charts using technical analysis tools while interpreting macroeconomic environment prevailing across world consequently assisting customers acquire long term advantages requires clear verdicts therefore seeking same through informed predictions written down precisely! First statement contains following content- “Can you tell us what future stock market looks like based upon current conditions ?\".\n",
    "\"\"\"\n",
    "user_prompt = \"{company}에 주식을 투자해도 될까요? 마크다운 형식의 투자보고서를 한글로 작성해 주세요.\""
   ]
  },
  {
   "cell_type": "markdown",
   "id": "261ef4ca",
   "metadata": {},
   "source": [
    "# 프롬프트 객체 생성\n"
   ]
  },
  {
   "cell_type": "code",
   "execution_count": 6,
   "id": "bf28f941",
   "metadata": {},
   "outputs": [
    {
     "data": {
      "text/plain": [
       "ChatPromptTemplate(input_variables=['company'], input_types={}, partial_variables={}, messages=[SystemMessagePromptTemplate(prompt=PromptTemplate(input_variables=[], input_types={}, partial_variables={}, template='\\nWant assistance provided by qualified individuals enabled with experience on understanding charts using technical analysis tools while interpreting macroeconomic environment prevailing across world consequently assisting customers acquire long term advantages requires clear verdicts therefore seeking same through informed predictions written down precisely! First statement contains following content- “Can you tell us what future stock market looks like based upon current conditions ?\".\\n'), additional_kwargs={}), HumanMessagePromptTemplate(prompt=PromptTemplate(input_variables=['company'], input_types={}, partial_variables={}, template='{company}에 주식을 투자해도 될까요? 마크다운 형식의 투자보고서를 한글로 작성해 주세요.'), additional_kwargs={})])"
      ]
     },
     "execution_count": 6,
     "metadata": {},
     "output_type": "execute_result"
    }
   ],
   "source": [
    "prompt = ChatPromptTemplate.from_messages([\n",
    "    (\"system\", system_prompt),\n",
    "    (\"user\", user_prompt)\n",
    "])\n",
    "prompt"
   ]
  },
  {
   "cell_type": "markdown",
   "id": "bd9ab216",
   "metadata": {},
   "source": [
    "# OutPut 파서 객체 생성\n"
   ]
  },
  {
   "cell_type": "code",
   "execution_count": 7,
   "id": "dba0b2ea",
   "metadata": {},
   "outputs": [
    {
     "data": {
      "text/plain": [
       "StrOutputParser()"
      ]
     },
     "execution_count": 7,
     "metadata": {},
     "output_type": "execute_result"
    }
   ],
   "source": [
    "output_parser = StrOutputParser()\n",
    "output_parser"
   ]
  },
  {
   "cell_type": "markdown",
   "id": "ec844b02",
   "metadata": {},
   "source": [
    "# LCEL로 LLM 요청 및 응답받기\n",
    "- chain 구성 : LCEL(LangChain Expression Language)\n",
    "\n"
   ]
  },
  {
   "cell_type": "code",
   "execution_count": 8,
   "id": "6fc3555a",
   "metadata": {},
   "outputs": [],
   "source": [
    "chain = prompt | llm | output_parser\n",
    "\n",
    "# 회사 이름\n",
    "company = \"MicroSoft\"\n",
    "response = chain.invoke({\"company\":company})"
   ]
  },
  {
   "cell_type": "code",
   "execution_count": 9,
   "id": "f29b5539",
   "metadata": {},
   "outputs": [
    {
     "name": "stdout",
     "output_type": "stream",
     "text": [
      "---\n",
      "\n",
      "# MicroSoft 주식 투자 보고서\n",
      "\n",
      "## 투자 결론:\n",
      "현재의 조건을 고려할 때, MicroSoft 주식에 대한 투자 가능성이 높습니다. 기술적 분석 도구를 활용하고 글로벌 경제적 환경을 고려하여 전문가들의 의견을 종합한 결과, 장기적으로 수익을 창출할 수 있는 기회를 제공할 것으로 판단됩니다.\n",
      "\n",
      "## 기술적 분석:\n",
      "MicroSoft 주식의 차트를 분석한 결과, 현재 주가는 상승 흐름을 보이고 있습니다. 이동평균선과 MACD와 같은 지표들은 강한 매수 신호를 보여줍니다. 따라서 기술적 분석 측면에서도 MicroSoft 주식에 대한 긍정적인 전망을 제공하고 있습니다.\n",
      "\n",
      "## 글로벌 경제적 환경:\n",
      "세계적으로 경기 회복세가 이어지고 있으며 기업들의 디지털화 및 클라우드 시장의 성장이 두드러지고 있습니다. MicroSoft는 클라우드 컴퓨팅 및 소프트웨어 분야에서 선도적인 기업으로 자리매김하고 있으며 이러한 성장세를 이어갈 것으로 전망됩니다.\n",
      "\n",
      "## 종합적 전망:\n",
      "지금의 상황을 고려할 때, MicroSoft 주식에 대한 투자는 장기적으로 안정적인 성과를 얻을 수 있는 기회를 제공할 것으로 판단됩니다. 투자자는 기술적 분석과 글로벌 경제적 환경을 함께 고려하여, 자신만의 투자 전략을 세워나갈 필요가 있습니다.\n",
      "\n",
      "---\n",
      "\n",
      "위의 투자 보고서는 MicroSoft 주식에 대한 현재 상황과 장기적인 전망을 종합적으로 제시하고 있습니다. 투자 결정을 내리실 때 참고하시기를 바랍니다.\n"
     ]
    }
   ],
   "source": [
    "print(response)\n"
   ]
  },
  {
   "cell_type": "code",
   "execution_count": null,
   "id": "c87dc50d",
   "metadata": {},
   "outputs": [],
   "source": []
  }
 ],
 "metadata": {
  "kernelspec": {
   "display_name": "lc_env",
   "language": "python",
   "name": "python3"
  },
  "language_info": {
   "codemirror_mode": {
    "name": "ipython",
    "version": 3
   },
   "file_extension": ".py",
   "mimetype": "text/x-python",
   "name": "python",
   "nbconvert_exporter": "python",
   "pygments_lexer": "ipython3",
   "version": "3.12.11"
  }
 },
 "nbformat": 4,
 "nbformat_minor": 5
}
